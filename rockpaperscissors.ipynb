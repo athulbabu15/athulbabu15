{
  "nbformat": 4,
  "nbformat_minor": 0,
  "metadata": {
    "colab": {
      "provenance": [],
      "authorship_tag": "ABX9TyPihdWgFGgdTMqsPCoZvkJ/",
      "include_colab_link": true
    },
    "kernelspec": {
      "name": "python3",
      "display_name": "Python 3"
    },
    "language_info": {
      "name": "python"
    }
  },
  "cells": [
    {
      "cell_type": "markdown",
      "metadata": {
        "id": "view-in-github",
        "colab_type": "text"
      },
      "source": [
        "<a href=\"https://colab.research.google.com/github/athulbabu15/athulbabu15/blob/main/rockpaperscissors.ipynb\" target=\"_parent\"><img src=\"https://colab.research.google.com/assets/colab-badge.svg\" alt=\"Open In Colab\"/></a>"
      ]
    },
    {
      "cell_type": "code",
      "execution_count": 6,
      "metadata": {
        "colab": {
          "base_uri": "https://localhost:8080/",
          "height": 505
        },
        "id": "lpt3qfy24dMK",
        "outputId": "1eb93e03-0bae-4b71-f0d5-f188789b9b1a"
      },
      "outputs": [
        {
          "name": "stdout",
          "output_type": "stream",
          "text": [
            "ROCK PAPER SCISSORS\n",
            "0 Wins, 0 Losses, 0 Ties\n",
            "enter your move: (r)ock  (p)aper  (s)cissors or  (q)uit\n",
            "r\n",
            "ROCK\n",
            "SCISSORS\n",
            "You win\n",
            "1 Wins, 0 Losses, 0 Ties\n",
            "enter your move: (r)ock  (p)aper  (s)cissors or  (q)uit\n",
            "p\n",
            "PAPER\n",
            "PAPER\n",
            "it is a tie\n",
            "1 Wins, 0 Losses, 1 Ties\n",
            "enter your move: (r)ock  (p)aper  (s)cissors or  (q)uit\n",
            "s\n",
            "SCISSORS\n",
            "ROCK\n",
            "You loss\n",
            "1 Wins, 1 Losses, 1 Ties\n",
            "enter your move: (r)ock  (p)aper  (s)cissors or  (q)uit\n",
            "q\n"
          ]
        },
        {
          "output_type": "error",
          "ename": "SystemExit",
          "evalue": "",
          "traceback": [
            "An exception has occurred, use %tb to see the full traceback.\n",
            "\u001b[0;31mSystemExit\u001b[0m\n"
          ]
        }
      ],
      "source": [
        "import random, sys\n",
        "\n",
        "print(\"ROCK PAPER SCISSORS\")\n",
        "\n",
        "wins = 0\n",
        "losses = 0\n",
        "ties = 0\n",
        "\n",
        "while True: #main game loop\n",
        "  print('%s Wins, %s Losses, %s Ties' %(wins, losses, ties))\n",
        "  while True:\n",
        "    print('enter your move: (r)ock  (p)aper  (s)cissors or  (q)uit')\n",
        "    playermove = input()\n",
        "    if playermove == 'q':\n",
        "      sys.exit()\n",
        "    if playermove == 'r' or playermove == 'p' or playermove == 's':\n",
        "      break\n",
        "    print('Type one of r,p,s or q')\n",
        "#Display what the player chose:\n",
        "  if playermove == 'r':\n",
        "    print('ROCK')\n",
        "  elif playermove == 'p':\n",
        "    print('PAPER')\n",
        "  elif playermove == 's':\n",
        "    print('SCISSORS')\n",
        "\n",
        "#display what computer choose:\n",
        "  randomnumber = random.randint(1,3)\n",
        "  if randomnumber == 1:\n",
        "    computermove = 'r'\n",
        "    print('ROCK')\n",
        "  elif randomnumber == 2:\n",
        "    computermove = 'p'\n",
        "    print('PAPER')\n",
        "  elif randomnumber == 3:\n",
        "    computermove = 's'\n",
        "    print('SCISSORS')\n",
        "\n",
        "#Display and record the win/loss/tie:\n",
        "  if playermove == computermove:\n",
        "    print('it is a tie')\n",
        "    ties = ties + 1\n",
        "  elif playermove == 'r' and computermove == 's':\n",
        "    print('You win')\n",
        "    wins = wins + 1\n",
        "  elif playermove == 'p' and computermove == 'r':\n",
        "    print('You win')\n",
        "    wins = wins + 1\n",
        "  elif playermove == 's' and computermove == 'p':\n",
        "    print('You win')\n",
        "    wins = wins + 1\n",
        "  elif playermove == 'r' and computermove == 'p':\n",
        "    print('You loss')\n",
        "    losses = losses + 1\n",
        "  elif playermove == 'p' and computermove == 's':\n",
        "    print('You loss')\n",
        "    losses = losses + 1\n",
        "  elif playermove == 's' and computermove == 'r':\n",
        "    print('You loss')\n",
        "    losses = losses + 1\n",
        "\n",
        "\n",
        "\n"
      ]
    },
    {
      "cell_type": "code",
      "source": [
        ":"
      ],
      "metadata": {
        "id": "c_8g7W_CCrlT"
      },
      "execution_count": null,
      "outputs": []
    }
  ]
}