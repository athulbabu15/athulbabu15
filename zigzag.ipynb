{
  "nbformat": 4,
  "nbformat_minor": 0,
  "metadata": {
    "colab": {
      "provenance": [],
      "authorship_tag": "ABX9TyPRIO5hsZBGRgynEkZZDm5o",
      "include_colab_link": true
    },
    "kernelspec": {
      "name": "python3",
      "display_name": "Python 3"
    },
    "language_info": {
      "name": "python"
    }
  },
  "cells": [
    {
      "cell_type": "markdown",
      "metadata": {
        "id": "view-in-github",
        "colab_type": "text"
      },
      "source": [
        "<a href=\"https://colab.research.google.com/github/athulbabu15/athulbabu15/blob/main/zigzag.ipynb\" target=\"_parent\"><img src=\"https://colab.research.google.com/assets/colab-badge.svg\" alt=\"Open In Colab\"/></a>"
      ]
    },
    {
      "cell_type": "code",
      "execution_count": null,
      "metadata": {
        "id": "zPg9G5iSfQYH"
      },
      "outputs": [],
      "source": [
        "import time, sys\n",
        "indent = 0\n",
        "indentincreasing = True\n",
        "\n",
        "try:\n",
        "  while True:\n",
        "    print(' ' * indent, end='')\n",
        "    print('*******')\n",
        "    time.sleep(0.1)\n",
        "\n",
        "\n",
        "    if indentincreasing:\n",
        "      indent = indent + 1\n",
        "\n",
        "      if indent == 20:\n",
        "         indentincreasing = False\n",
        "\n",
        "    else:\n",
        "      indent = indent - 1\n",
        "      if indent == 0:\n",
        "        indentincreasing = True\n",
        "\n",
        "except KeyboardInterrupt:\n",
        "  sys.exit()"
      ]
    }
  ]
}