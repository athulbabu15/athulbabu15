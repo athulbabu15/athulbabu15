{
  "nbformat": 4,
  "nbformat_minor": 0,
  "metadata": {
    "colab": {
      "provenance": [],
      "authorship_tag": "ABX9TyMf8O0XgYhIyBWVbHrek4f2",
      "include_colab_link": true
    },
    "kernelspec": {
      "name": "python3",
      "display_name": "Python 3"
    },
    "language_info": {
      "name": "python"
    }
  },
  "cells": [
    {
      "cell_type": "markdown",
      "metadata": {
        "id": "view-in-github",
        "colab_type": "text"
      },
      "source": [
        "<a href=\"https://colab.research.google.com/github/athulbabu15/athulbabu15/blob/main/list_p1.ipynb\" target=\"_parent\"><img src=\"https://colab.research.google.com/assets/colab-badge.svg\" alt=\"Open In Colab\"/></a>"
      ]
    },
    {
      "cell_type": "code",
      "execution_count": 11,
      "metadata": {
        "colab": {
          "base_uri": "https://localhost:8080/"
        },
        "id": "GgMKjnC_MbhO",
        "outputId": "93f37019-4127-48de-db5a-b385add59be2"
      },
      "outputs": [
        {
          "output_type": "stream",
          "name": "stdout",
          "text": [
            "enter the name of cat 1 (Or enter nothing ton stop)\n",
            "athul\n",
            "enter the name of cat 2 (Or enter nothing ton stop)\n",
            "bahiya\n",
            "enter the name of cat 3 (Or enter nothing ton stop)\n",
            "bella\n",
            "enter the name of cat 4 (Or enter nothing ton stop)\n",
            "\n",
            "the cat names are:\n",
            " athul\n",
            " bahiya\n",
            " bella\n"
          ]
        }
      ],
      "source": [
        "catname = []\n",
        "while True:\n",
        "  print('enter the name of cat ' + str(len(catname)+1) +\n",
        "         ' (Or enter nothing ton stop)')\n",
        "  name = input()\n",
        "  if name == '':\n",
        "    break\n",
        "  catname = catname + [name]\n",
        "print('the cat names are:')\n",
        "for name in catname:\n",
        "    print(' ' + name)\n"
      ]
    },
    {
      "cell_type": "code",
      "source": [],
      "metadata": {
        "id": "iZ51w-eKOAu5"
      },
      "execution_count": null,
      "outputs": []
    }
  ]
}