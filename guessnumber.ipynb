{
  "nbformat": 4,
  "nbformat_minor": 0,
  "metadata": {
    "colab": {
      "provenance": [],
      "authorship_tag": "ABX9TyNbf8OwU0l2VevoB1sJYjnm",
      "include_colab_link": true
    },
    "kernelspec": {
      "name": "python3",
      "display_name": "Python 3"
    },
    "language_info": {
      "name": "python"
    }
  },
  "cells": [
    {
      "cell_type": "markdown",
      "metadata": {
        "id": "view-in-github",
        "colab_type": "text"
      },
      "source": [
        "<a href=\"https://colab.research.google.com/github/athulbabu15/athulbabu15/blob/main/guessnumber.ipynb\" target=\"_parent\"><img src=\"https://colab.research.google.com/assets/colab-badge.svg\" alt=\"Open In Colab\"/></a>"
      ]
    },
    {
      "cell_type": "code",
      "source": [
        "for i in range(11):\n",
        "  z = 2 ** i\n",
        "  print(\"power of 2^\",i ,\"is\", + z )"
      ],
      "metadata": {
        "colab": {
          "base_uri": "https://localhost:8080/"
        },
        "id": "QxHLV5EE1QXb",
        "outputId": "0340535c-587e-46af-802d-f78361171559"
      },
      "execution_count": null,
      "outputs": [
        {
          "output_type": "stream",
          "name": "stdout",
          "text": [
            "power of 2^ 0 is 1\n",
            "power of 2^ 1 is 2\n",
            "power of 2^ 2 is 4\n",
            "power of 2^ 3 is 8\n",
            "power of 2^ 4 is 16\n",
            "power of 2^ 5 is 32\n",
            "power of 2^ 6 is 64\n",
            "power of 2^ 7 is 128\n",
            "power of 2^ 8 is 256\n",
            "power of 2^ 9 is 512\n",
            "power of 2^ 10 is 1024\n"
          ]
        }
      ]
    },
    {
      "cell_type": "code",
      "source": [
        "import random\n",
        "secretnumber = random.randint(1, 20)\n",
        "print(\"i am thinking a number b/w 1 and 20\")"
      ],
      "metadata": {
        "id": "nL0KttBE47nX",
        "colab": {
          "base_uri": "https://localhost:8080/"
        },
        "outputId": "f2929249-62ca-4168-8034-e50b43ce7e55"
      },
      "execution_count": 4,
      "outputs": [
        {
          "output_type": "stream",
          "name": "stdout",
          "text": [
            "i am thinking a number b/w 1 and 20\n"
          ]
        }
      ]
    },
    {
      "cell_type": "code",
      "source": [
        "for guessestaken in range(1,7):\n",
        "  print('take a guess')\n",
        "  guess = int(input())\n",
        "\n",
        "  if guess < secretnumber:\n",
        "    print('Your guess is too low.')\n",
        "  elif guess > secretnumber:\n",
        "    print('your guess is too high')\n",
        "  else:\n",
        "    break\n",
        "\n",
        "if guess == secretnumber:\n",
        "  print('Good job You gussed my number in' + str(guessestaken) + 'guesses')\n",
        "else:\n",
        "  print('No. the number i was thinking of was'+ str(secretnumber))"
      ],
      "metadata": {
        "colab": {
          "base_uri": "https://localhost:8080/"
        },
        "id": "_fpfrhMh1OHa",
        "outputId": "504dd141-c0ee-412f-a4b0-73026d992a9e"
      },
      "execution_count": 5,
      "outputs": [
        {
          "output_type": "stream",
          "name": "stdout",
          "text": [
            "take a guess\n",
            "5\n",
            "Your guess is too low.\n",
            "take a guess\n",
            "10\n",
            "Your guess is too low.\n",
            "take a guess\n",
            "12\n",
            "Your guess is too low.\n",
            "take a guess\n",
            "18\n",
            "Your guess is too low.\n",
            "take a guess\n",
            "20\n",
            "your guess is too high\n",
            "take a guess\n",
            "19\n",
            "Good job You gussed my number in6guesses\n"
          ]
        }
      ]
    },
    {
      "cell_type": "code",
      "source": [
        "\n",
        "\n"
      ],
      "metadata": {
        "id": "Jc6AuYiW1fjM"
      },
      "execution_count": null,
      "outputs": []
    }
  ]
}